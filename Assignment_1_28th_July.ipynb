{
  "nbformat": 4,
  "nbformat_minor": 0,
  "metadata": {
    "colab": {
      "name": "Assignment_1_28th_June.ipynb",
      "provenance": [],
      "authorship_tag": "ABX9TyNiaEDi2K9G5f/HczOb407d",
      "include_colab_link": true
    },
    "kernelspec": {
      "name": "python3",
      "display_name": "Python 3"
    },
    "language_info": {
      "name": "python"
    }
  },
  "cells": [
    {
      "cell_type": "markdown",
      "metadata": {
        "id": "view-in-github",
        "colab_type": "text"
      },
      "source": [
        "<a href=\"https://colab.research.google.com/github/charlespeterdixon/Assignments_2021_July/blob/main/Assignment_1_28th_June.ipynb\" target=\"_parent\"><img src=\"https://colab.research.google.com/assets/colab-badge.svg\" alt=\"Open In Colab\"/></a>"
      ]
    },
    {
      "cell_type": "code",
      "metadata": {
        "colab": {
          "base_uri": "https://localhost:8080/"
        },
        "id": "K1DYggG6ThIh",
        "outputId": "f8699378-af09-4791-ec3e-ea9d174102a7"
      },
      "source": [
        "# Assignment to take input from the user to print the descending order of the list\n",
        "\n",
        "n = input(\"the length of the list \")\n",
        "n = int(n)\n",
        "arr = []      #how to declare an empty list\n",
        "for i in range(n):  #how to declare array in python\n",
        "    a = input(\"Enter element \")     #taking input \n",
        "    a = int (a)                   #converting it into int\n",
        "    arr.append(a)                 #next iteration of the list\n",
        "arr.sort()        #sorting list elements\n",
        "arr.reverse()     #reversing the list elements\n",
        "print(arr)"
      ],
      "execution_count": 35,
      "outputs": [
        {
          "output_type": "stream",
          "text": [
            "the length of the list 5\n",
            "Enter element 3\n",
            "Enter element 6\n",
            "Enter element 8\n",
            "Enter element 10\n",
            "Enter element 63\n",
            "[63, 10, 8, 6, 3]\n"
          ],
          "name": "stdout"
        }
      ]
    }
  ]
}

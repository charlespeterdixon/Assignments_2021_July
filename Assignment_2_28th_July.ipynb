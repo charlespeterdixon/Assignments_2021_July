{
  "nbformat": 4,
  "nbformat_minor": 0,
  "metadata": {
    "colab": {
      "name": "Assignment_2_28th_July.ipynb",
      "provenance": [],
      "authorship_tag": "ABX9TyO7hEA9UCidv3tIx1PP83iA",
      "include_colab_link": true
    },
    "kernelspec": {
      "name": "python3",
      "display_name": "Python 3"
    },
    "language_info": {
      "name": "python"
    }
  },
  "cells": [
    {
      "cell_type": "markdown",
      "metadata": {
        "id": "view-in-github",
        "colab_type": "text"
      },
      "source": [
        "<a href=\"https://colab.research.google.com/github/charlespeterdixon/Assignments_2021_July/blob/main/Assignment_2_28th_July.ipynb\" target=\"_parent\"><img src=\"https://colab.research.google.com/assets/colab-badge.svg\" alt=\"Open In Colab\"/></a>"
      ]
    },
    {
      "cell_type": "code",
      "metadata": {
        "colab": {
          "base_uri": "https://localhost:8080/"
        },
        "id": "a4bNlBnxIAZ3",
        "outputId": "bc27a222-2227-4e7d-a5bc-f723a617dc38"
      },
      "source": [
        "n = input(\"the length of the list \")\n",
        "n = int(n)\n",
        "c = 0\n",
        "arr = []      #how to declare an empty list\n",
        "for i in range(n):  #how to declare array in python\n",
        "    a = input(\"Enter element \")     #taking input \n",
        "    a = int (a)                   #converting it into int\n",
        "    arr.append(a)\n",
        "k = input('Enter the element you want to remove ')\n",
        "k = int (k)\n",
        "arr.count(k)\n",
        "for i in range(arr.count(k)):\n",
        "  arr.remove(k)\n",
        "print(arr)"
      ],
      "execution_count": 14,
      "outputs": [
        {
          "output_type": "stream",
          "text": [
            "the length of the list 5\n",
            "Enter element 2\n",
            "Enter element 2\n",
            "Enter element 2\n",
            "Enter element 3\n",
            "Enter element 5\n",
            "Enter the element you want to remove 2\n",
            "[3, 5]\n"
          ],
          "name": "stdout"
        }
      ]
    },
    {
      "cell_type": "code",
      "metadata": {
        "id": "mbwvXIH8JV0d"
      },
      "source": [
        ""
      ],
      "execution_count": null,
      "outputs": []
    }
  ]
}
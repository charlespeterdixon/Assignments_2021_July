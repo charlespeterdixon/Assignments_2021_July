{
  "nbformat": 4,
  "nbformat_minor": 0,
  "metadata": {
    "colab": {
      "name": "Assingment_4_Final_Project.ipynb",
      "provenance": [],
      "authorship_tag": "ABX9TyOUx8OLU7Kkdngcs0W3ypGv",
      "include_colab_link": true
    },
    "kernelspec": {
      "name": "python3",
      "display_name": "Python 3"
    },
    "language_info": {
      "name": "python"
    }
  },
  "cells": [
    {
      "cell_type": "markdown",
      "metadata": {
        "id": "view-in-github",
        "colab_type": "text"
      },
      "source": [
        "<a href=\"https://colab.research.google.com/github/charlespeterdixon/Assignments_2021_July/blob/main/Assingment_4_Final_Project.ipynb\" target=\"_parent\"><img src=\"https://colab.research.google.com/assets/colab-badge.svg\" alt=\"Open In Colab\"/></a>"
      ]
    },
    {
      "cell_type": "code",
      "metadata": {
        "colab": {
          "base_uri": "https://localhost:8080/"
        },
        "id": "DTbXC9kpYyVJ",
        "outputId": "0f954781-5afd-4b76-dc61-8a4f006e39a0"
      },
      "source": [
        "c = input(\"Enter the value in °C \")\n",
        "c = float (c)\n",
        "f = 0.0\n",
        "f = float (f)\n",
        "f = c*(9/5)+32\n",
        "print(f,\"°F\")"
      ],
      "execution_count": 4,
      "outputs": [
        {
          "output_type": "stream",
          "text": [
            "Enter the value in °C 50\n",
            "122.0 °F\n"
          ],
          "name": "stdout"
        }
      ]
    },
    {
      "cell_type": "code",
      "metadata": {
        "id": "9s-gURZBZkyd"
      },
      "source": [
        ""
      ],
      "execution_count": null,
      "outputs": []
    }
  ]
}
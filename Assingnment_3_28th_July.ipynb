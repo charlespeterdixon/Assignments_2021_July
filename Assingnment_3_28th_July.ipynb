{
  "nbformat": 4,
  "nbformat_minor": 0,
  "metadata": {
    "colab": {
      "name": "Assingnment_3_28th_July.ipynb",
      "provenance": [],
      "authorship_tag": "ABX9TyMLj6c/aRDnc6kSCQwXuT2Q",
      "include_colab_link": true
    },
    "kernelspec": {
      "name": "python3",
      "display_name": "Python 3"
    },
    "language_info": {
      "name": "python"
    }
  },
  "cells": [
    {
      "cell_type": "markdown",
      "metadata": {
        "id": "view-in-github",
        "colab_type": "text"
      },
      "source": [
        "<a href=\"https://colab.research.google.com/github/charlespeterdixon/Assignments_2021_July/blob/main/Assingnment_3_28th_July.ipynb\" target=\"_parent\"><img src=\"https://colab.research.google.com/assets/colab-badge.svg\" alt=\"Open In Colab\"/></a>"
      ]
    },
    {
      "cell_type": "code",
      "metadata": {
        "colab": {
          "base_uri": "https://localhost:8080/"
        },
        "id": "t59JFniEUNy1",
        "outputId": "ddee663e-f759-4bf4-cbdf-0b1aae028c67"
      },
      "source": [
        "# Check if the string is pangram\n",
        "import string\n",
        "\n",
        "alphabet = set(string.ascii_lowercase)\n",
        "\n",
        "def pangram(str):\n",
        "\treturn not set(alphabet) - set(str)\n",
        "\t\n",
        "s = input('Enter the sentence to be checked: ') #the quick brown fox jumps over the lazy dog\n",
        "if(pangram(s) == True):\n",
        "\tprint(\"Yes\")\n",
        "else:\n",
        "\tprint(\"No\")\n"
      ],
      "execution_count": 7,
      "outputs": [
        {
          "output_type": "stream",
          "text": [
            "Enter the sentence to be checked: hi hello ji abcdefghijklmnopqrstuvwxyz\n",
            "Yes\n"
          ],
          "name": "stdout"
        }
      ]
    },
    {
      "cell_type": "code",
      "metadata": {
        "id": "rZ-3Cmx0VuEt"
      },
      "source": [
        ""
      ],
      "execution_count": null,
      "outputs": []
    }
  ]
}